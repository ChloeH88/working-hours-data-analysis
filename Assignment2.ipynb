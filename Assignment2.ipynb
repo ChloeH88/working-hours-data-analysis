{
  "nbformat": 4,
  "nbformat_minor": 0,
  "metadata": {
    "colab": {
      "name": "Assignment2.ipynb",
      "provenance": [],
      "collapsed_sections": [],
      "toc_visible": true,
      "include_colab_link": true
    },
    "kernelspec": {
      "name": "python3",
      "display_name": "Python 3"
    }
  },
  "cells": [
    {
      "cell_type": "markdown",
      "metadata": {
        "id": "view-in-github",
        "colab_type": "text"
      },
      "source": [
        "<a href=\"https://colab.research.google.com/github/ChloeH88/JSC270_HW2_2022_CHuang/blob/main/Assignment2.ipynb\" target=\"_parent\"><img src=\"https://colab.research.google.com/assets/colab-badge.svg\" alt=\"Open In Colab\"/></a>"
      ]
    },
    {
      "cell_type": "markdown",
      "metadata": {
        "id": "Dx3JcBg8VZ-a"
      },
      "source": [
        "###Libraries you'll likely need"
      ]
    },
    {
      "cell_type": "code",
      "metadata": {
        "id": "3I79uCwE3Sq8",
        "colab": {
          "base_uri": "https://localhost:8080/"
        },
        "outputId": "5c00727d-4371-4850-ce0d-10b1e7a44d40"
      },
      "source": [
        "import pandas as pd\n",
        "import numpy as np\n",
        "import matplotlib.pyplot as plt\n",
        "import seaborn as sns\n",
        "from scipy import stats\n",
        "import statsmodels.api as sm\n",
        "import statsmodels.formula.api as smf"
      ],
      "execution_count": 1,
      "outputs": [
        {
          "output_type": "stream",
          "name": "stderr",
          "text": [
            "/usr/local/lib/python3.7/dist-packages/statsmodels/tools/_testing.py:19: FutureWarning: pandas.util.testing is deprecated. Use the functions in the public API at pandas.testing instead.\n",
            "  import pandas.util.testing as tm\n"
          ]
        }
      ]
    },
    {
      "cell_type": "markdown",
      "metadata": {
        "id": "X0oR7u9m-wO6"
      },
      "source": [
        "###Importing data"
      ]
    },
    {
      "cell_type": "code",
      "metadata": {
        "id": "f3jscp2H3Yqm"
      },
      "source": [
        "income94 = pd.read_csv('https://archive.ics.uci.edu/ml/machine-learning-databases/adult/adult.data', header=None)\n",
        "income94.columns = ['age','workclass', 'fnlwgt','education','education_num','marital_status','occupation',\n",
        "                    'relationship','race','sex','capital_gain','capital_loss','hours_per_week','native_country','gross_income_group']"
      ],
      "execution_count": 2,
      "outputs": []
    },
    {
      "cell_type": "markdown",
      "source": [
        "#Part 2: Data Analysis\n"
      ],
      "metadata": {
        "id": "7teBDxtjuGQE"
      }
    },
    {
      "cell_type": "markdown",
      "source": [
        "##2.1 Initial Data Exploration\n",
        "\n"
      ],
      "metadata": {
        "id": "vZ0SnVMDuORC"
      }
    },
    {
      "cell_type": "markdown",
      "source": [
        "###Q1: Check the columns\n",
        "Are they the expected data types based on their descriptions in [this text file description of the data?](https://archive.ics.uci.edu/ml/machine-learning-databases/adult/adult.names)"
      ],
      "metadata": {
        "id": "3c6LQFGwuifi"
      }
    },
    {
      "cell_type": "code",
      "source": [
        "income94.info()\n",
        "# Answer: all columns are expected data types, \n",
        "# as all continuous attributes are int64 and the categorical ones are object."
      ],
      "metadata": {
        "colab": {
          "base_uri": "https://localhost:8080/"
        },
        "id": "lQCx-81ruFUR",
        "outputId": "2f105a16-4904-452f-d414-1263f17293b6"
      },
      "execution_count": 3,
      "outputs": [
        {
          "output_type": "stream",
          "name": "stdout",
          "text": [
            "<class 'pandas.core.frame.DataFrame'>\n",
            "RangeIndex: 32561 entries, 0 to 32560\n",
            "Data columns (total 15 columns):\n",
            " #   Column              Non-Null Count  Dtype \n",
            "---  ------              --------------  ----- \n",
            " 0   age                 32561 non-null  int64 \n",
            " 1   workclass           32561 non-null  object\n",
            " 2   fnlwgt              32561 non-null  int64 \n",
            " 3   education           32561 non-null  object\n",
            " 4   education_num       32561 non-null  int64 \n",
            " 5   marital_status      32561 non-null  object\n",
            " 6   occupation          32561 non-null  object\n",
            " 7   relationship        32561 non-null  object\n",
            " 8   race                32561 non-null  object\n",
            " 9   sex                 32561 non-null  object\n",
            " 10  capital_gain        32561 non-null  int64 \n",
            " 11  capital_loss        32561 non-null  int64 \n",
            " 12  hours_per_week      32561 non-null  int64 \n",
            " 13  native_country      32561 non-null  object\n",
            " 14  gross_income_group  32561 non-null  object\n",
            "dtypes: int64(6), object(9)\n",
            "memory usage: 3.7+ MB\n"
          ]
        }
      ]
    },
    {
      "cell_type": "markdown",
      "source": [
        "###Q2: Missing values\n",
        "How are missing values represented in this data? Cast missing values to np.nan, if necessary. Count the number of missing values in each column."
      ],
      "metadata": {
        "id": "AyvoFs6DwWHC"
      }
    },
    {
      "cell_type": "code",
      "source": [
        "print(income94['occupation'].value_counts())\n",
        "print(income94['workclass'].value_counts())\n",
        "# missing values are in categorical variables, and are represented by ' ?'"
      ],
      "metadata": {
        "colab": {
          "base_uri": "https://localhost:8080/"
        },
        "id": "pXu3ti4x5aM7",
        "outputId": "e7d9a71f-073e-47ea-a069-75174810b746"
      },
      "execution_count": 4,
      "outputs": [
        {
          "output_type": "stream",
          "name": "stdout",
          "text": [
            " Prof-specialty       4140\n",
            " Craft-repair         4099\n",
            " Exec-managerial      4066\n",
            " Adm-clerical         3770\n",
            " Sales                3650\n",
            " Other-service        3295\n",
            " Machine-op-inspct    2002\n",
            " ?                    1843\n",
            " Transport-moving     1597\n",
            " Handlers-cleaners    1370\n",
            " Farming-fishing       994\n",
            " Tech-support          928\n",
            " Protective-serv       649\n",
            " Priv-house-serv       149\n",
            " Armed-Forces            9\n",
            "Name: occupation, dtype: int64\n",
            " Private             22696\n",
            " Self-emp-not-inc     2541\n",
            " Local-gov            2093\n",
            " ?                    1836\n",
            " State-gov            1298\n",
            " Self-emp-inc         1116\n",
            " Federal-gov           960\n",
            " Without-pay            14\n",
            " Never-worked            7\n",
            "Name: workclass, dtype: int64\n"
          ]
        }
      ]
    },
    {
      "cell_type": "code",
      "source": [
        "# replace missing values with np.nan\n",
        "income94 = income94.replace(to_replace = ' ?', value = np.nan)"
      ],
      "metadata": {
        "id": "1USuomvPA3Wv"
      },
      "execution_count": 5,
      "outputs": []
    },
    {
      "cell_type": "code",
      "source": [
        "# count missing values:\n",
        "missing_cols = ['workclass', 'occupation']\n",
        "for col in missing_cols:\n",
        "  print(f\"Number of missing values for {col}:\", income94[col].isnull().sum())"
      ],
      "metadata": {
        "colab": {
          "base_uri": "https://localhost:8080/"
        },
        "id": "RFn7pTBj5i20",
        "outputId": "7db329f2-98e5-4594-c31a-43fd30aeee5a"
      },
      "execution_count": 6,
      "outputs": [
        {
          "output_type": "stream",
          "name": "stdout",
          "text": [
            "Number of missing values for workclass: 1836\n",
            "Number of missing values for occupation: 1843\n"
          ]
        }
      ]
    },
    {
      "cell_type": "markdown",
      "source": [
        "###Q3: capital_gain and capital_loss\n",
        "Individually plot the distributions of capital_gain and capital_loss. Do you think these variables should be transformed to categorical variables? Why or why not? If yes, create a new variable(s) with your suggested transformation and plot or describe in a table the distribution of the new categorical variable(s)."
      ],
      "metadata": {
        "id": "VtR0Tp9m7skg"
      }
    },
    {
      "cell_type": "code",
      "source": [
        "capitals = ['capital_gain', 'capital_loss']\n",
        "for col in capitals:\n",
        "    income94[capitals].boxplot([col], vert=False)\n",
        "    plt.show()"
      ],
      "metadata": {
        "id": "r0e9N3Kp8XSz",
        "colab": {
          "base_uri": "https://localhost:8080/",
          "height": 513
        },
        "outputId": "d726ec87-65f3-4893-a141-b9a3c235ddcd"
      },
      "execution_count": 7,
      "outputs": [
        {
          "output_type": "display_data",
          "data": {
            "image/png": "[encoded data removed]",
            "text/plain": [
              "<Figure size 432x288 with 1 Axes>"
            ]
          },
          "metadata": {
            "needs_background": "light"
          }
        },
        {
          "output_type": "display_data",
          "data": {
            "image/png": "[encoded data removed]",
            "text/plain": [
              "<Figure size 432x288 with 1 Axes>"
            ]
          },
          "metadata": {
            "needs_background": "light"
          }
        }
      ]
    },
    {
      "cell_type": "markdown",
      "source": [
        "**Tranform into categorical variables:**\n",
        "\n",
        "I think we can convert these two variables into categorical ones, \n",
        "because approximately 50% of the values are 0, so I decided to have 2 categories: 0 and not 0. \n",
        "\n",
        "Also, after dividing them up into categories/labels, \n",
        "we can see more clearly how many counts are in each group. \n",
        "And making conclusions based on categories(has capital gain/ no capital gain group)\n",
        "makes the data more understandable to audiences.\n",
        "\n",
        "But, there are definitely some drawbacks, like \n",
        "we lose some precision by ignoring the distinction between different numeric values (e.g. 100000 and 10000 capital_gain), and cannot apply numerical statistical methods on them."
      ],
      "metadata": {
        "id": "yMPHwAaFHSpt"
      }
    },
    {
      "cell_type": "code",
      "source": [
        "# Divide capital gain and loss into 2 categories based on whether it equals 0 or not\n",
        "income94['capital_gain_type'] = np.where(income94['capital_gain']==0, 'no', 'yes')\n",
        "income94['capital_loss_type'] = np.where(income94['capital_loss']==0, 'no', 'yes')\n",
        "\n",
        "# Plot\n",
        "sns.countplot(x=income94['capital_gain_type'])\n",
        "plt.show()\n",
        "\n",
        "sns.countplot(x=income94['capital_loss_type'])\n",
        "plt.show()"
      ],
      "metadata": {
        "colab": {
          "base_uri": "https://localhost:8080/",
          "height": 543
        },
        "id": "zJ5-mvZt-IX2",
        "outputId": "403e26ef-f7d2-4a73-f751-805c2db03e32"
      },
      "execution_count": 8,
      "outputs": [
        {
          "output_type": "display_data",
          "data": {
            "image/png": "[encoded data removed]",
            "text/plain": [
              "<Figure size 432x288 with 1 Axes>"
            ]
          },
          "metadata": {
            "needs_background": "light"
          }
        },
        {
          "output_type": "display_data",
          "data": {
            "image/png": "[encoded data removed]",
            "text/plain": [
              "<Figure size 432x288 with 1 Axes>"
            ]
          },
          "metadata": {
            "needs_background": "light"
          }
        }
      ]
    },
    {
      "cell_type": "markdown",
      "source": [
        "###Q4: Sampling weights fnlwgt\n",
        "Plot or numerically explore the distribution of fnlwgt. Is the variable symmetrically distributed? Compare the distribution of this variable between men and women and comment on any trends you notice. Should outliers be excluded? If you think yes, set the fnlwgt values for those you deem to be outliers as missing for the remainder of your analyses."
      ],
      "metadata": {
        "id": "1jBkdYb_gs5H"
      }
    },
    {
      "cell_type": "code",
      "source": [
        "# Plot\n",
        "income94['fnlwgt'].hist(bins=30, edgecolor=\"black\")\n",
        "plt.show()\n",
        "# fnlwgt is not symmetrically distributed; it's right skewed"
      ],
      "metadata": {
        "colab": {
          "base_uri": "https://localhost:8080/",
          "height": 278
        },
        "id": "q7BcwnnTgw1w",
        "outputId": "546c4384-113b-4255-a99b-17e3c58c621e"
      },
      "execution_count": 9,
      "outputs": [
        {
          "output_type": "display_data",
          "data": {
            "image/png": "[encoded data removed]",
            "text/plain": [
              "<Figure size 432x288 with 1 Axes>"
            ]
          },
          "metadata": {
            "needs_background": "light"
          }
        }
      ]
    },
    {
      "cell_type": "code",
      "source": [
        "# compare between men and women\n",
        "income94['fnlwgt'].hist(by=income94.sex, figsize=(15,5), bins=30, edgecolor=\"black\")\n",
        "plt.show()"
      ],
      "metadata": {
        "colab": {
          "base_uri": "https://localhost:8080/",
          "height": 333
        },
        "id": "LPHpC6Gahkgi",
        "outputId": "4e5fe01e-af87-426e-9f8f-37d8e544b0ce"
      },
      "execution_count": 10,
      "outputs": [
        {
          "output_type": "display_data",
          "data": {
            "image/png": "[encoded data removed]",
            "text/plain": [
              "<Figure size 1080x360 with 2 Axes>"
            ]
          },
          "metadata": {
            "needs_background": "light"
          }
        }
      ]
    },
    {
      "cell_type": "markdown",
      "source": [
        "**Compare distribution:**\n",
        "\n",
        "The shape of distribution between men and women are quite similar, and the median and mode are also similar.\n",
        "However, noticing the y-axis, men's weight is approximately 1.5 times higher than women's.\n",
        "\n",
        "**Outliers:**\n",
        "\n",
        "I do think outliers needed to be included, because weight is artificially assigned to help us decide if two people have similar demographic characteristics."
      ],
      "metadata": {
        "id": "fHcFYqpRpC0p"
      }
    },
    {
      "cell_type": "markdown",
      "source": [
        "##2.2 Correlation (age, education_num, and hours_per_week)\n"
      ],
      "metadata": {
        "id": "eXEjfwauqF0r"
      }
    },
    {
      "cell_type": "markdown",
      "source": [
        "###(a) Do any of the variables appear to be correlated? How did you make your assessment?"
      ],
      "metadata": {
        "id": "nhq4LJWPrYAA"
      }
    },
    {
      "cell_type": "code",
      "source": [
        "# Select the targeted columns\n",
        "vars = ['age', 'education_num', 'hours_per_week', 'sex']\n",
        "cor_dataset = income94[vars]\n",
        "\n",
        "# Use a subset of the big dataset to plot pairwise scatter plot, to have a general idea about the coorelation\n",
        "sub = cor_dataset.sample(500)\n",
        "sns.pairplot(data=sub)\n",
        "plt.show()"
      ],
      "metadata": {
        "colab": {
          "base_uri": "https://localhost:8080/",
          "height": 550
        },
        "id": "jKwbPkGLtZG7",
        "outputId": "a988cec7-3f7d-4e67-e4fe-0d950d941676"
      },
      "execution_count": 11,
      "outputs": [
        {
          "output_type": "display_data",
          "data": {
            "image/png": "[encoded data removed]",
            "text/plain": [
              "<Figure size 540x540 with 12 Axes>"
            ]
          },
          "metadata": {
            "needs_background": "light"
          }
        }
      ]
    },
    {
      "cell_type": "code",
      "source": [
        "# Then, use a pairwise correlation matrix to find a more precise correlation\n",
        "corr = cor_dataset.corr()\n",
        "corr"
      ],
      "metadata": {
        "colab": {
          "base_uri": "https://localhost:8080/",
          "height": 142
        },
        "id": "jqWCg1o2rryt",
        "outputId": "0b990c3f-77b1-4a6b-ffd0-5b76758a1d85"
      },
      "execution_count": 12,
      "outputs": [
        {
          "output_type": "execute_result",
          "data": {
            "text/html": [
              "\n",
              "  <div id=\"df-d7263705-25cc-4a09-b791-9ade4df2da19\">\n",
              "    <div class=\"colab-df-container\">\n",
              "      <div>\n",
              "<style scoped>\n",
              "    .dataframe tbody tr th:only-of-type {\n",
              "        vertical-align: middle;\n",
              "    }\n",
              "\n",
              "    .dataframe tbody tr th {\n",
              "        vertical-align: top;\n",
              "    }\n",
              "\n",
              "    .dataframe thead th {\n",
              "        text-align: right;\n",
              "    }\n",
              "</style>\n",
              "<table border=\"1\" class=\"dataframe\">\n",
              "  <thead>\n",
              "    <tr style=\"text-align: right;\">\n",
              "      <th></th>\n",
              "      <th>age</th>\n",
              "      <th>education_num</th>\n",
              "      <th>hours_per_week</th>\n",
              "    </tr>\n",
              "  </thead>\n",
              "  <tbody>\n",
              "    <tr>\n",
              "      <th>age</th>\n",
              "      <td>1.000000</td>\n",
              "      <td>0.036527</td>\n",
              "      <td>0.068756</td>\n",
              "    </tr>\n",
              "    <tr>\n",
              "      <th>education_num</th>\n",
              "      <td>0.036527</td>\n",
              "      <td>1.000000</td>\n",
              "      <td>0.148123</td>\n",
              "    </tr>\n",
              "    <tr>\n",
              "      <th>hours_per_week</th>\n",
              "      <td>0.068756</td>\n",
              "      <td>0.148123</td>\n",
              "      <td>1.000000</td>\n",
              "    </tr>\n",
              "  </tbody>\n",
              "</table>\n",
              "</div>\n",
              "      <button class=\"colab-df-convert\" onclick=\"convertToInteractive('df-d7263705-25cc-4a09-b791-9ade4df2da19')\"\n",
              "              title=\"Convert this dataframe to an interactive table.\"\n",
              "              style=\"display:none;\">\n",
              "        \n",
              "  <svg xmlns=\"http://www.w3.org/2000/svg\" height=\"24px\"viewBox=\"0 0 24 24\"\n",
              "       width=\"24px\">\n",
              "    <path d=\"M0 0h24v24H0V0z\" fill=\"none\"/>\n",
              "    <path d=\"M18.56 5.44l.94 2.06.94-2.06 2.06-.94-2.06-.94-.94-2.06-.94 2.06-2.06.94zm-11 1L8.5 8.5l.94-2.06 2.06-.94-2.06-.94L8.5 2.5l-.94 2.06-2.06.94zm10 10l.94 2.06.94-2.06 2.06-.94-2.06-.94-.94-2.06-.94 2.06-2.06.94z\"/><path d=\"M17.41 7.96l-1.37-1.37c-.4-.4-.92-.59-1.43-.59-.52 0-1.04.2-1.43.59L10.3 9.45l-7.72 7.72c-.78.78-.78 2.05 0 2.83L4 21.41c.39.39.9.59 1.41.59.51 0 1.02-.2 1.41-.59l7.78-7.78 2.81-2.81c.8-.78.8-2.07 0-2.86zM5.41 20L4 18.59l7.72-7.72 1.47 1.35L5.41 20z\"/>\n",
              "  </svg>\n",
              "      </button>\n",
              "      \n",
              "  <style>\n",
              "    .colab-df-container {\n",
              "      display:flex;\n",
              "      flex-wrap:wrap;\n",
              "      gap: 12px;\n",
              "    }\n",
              "\n",
              "    .colab-df-convert {\n",
              "      background-color: #E8F0FE;\n",
              "      border: none;\n",
              "      border-radius: 50%;\n",
              "      cursor: pointer;\n",
              "      display: none;\n",
              "      fill: #1967D2;\n",
              "      height: 32px;\n",
              "      padding: 0 0 0 0;\n",
              "      width: 32px;\n",
              "    }\n",
              "\n",
              "    .colab-df-convert:hover {\n",
              "      background-color: #E2EBFA;\n",
              "      box-shadow: 0px 1px 2px rgba(60, 64, 67, 0.3), 0px 1px 3px 1px rgba(60, 64, 67, 0.15);\n",
              "      fill: #174EA6;\n",
              "    }\n",
              "\n",
              "    [theme=dark] .colab-df-convert {\n",
              "      background-color: #3B4455;\n",
              "      fill: #D2E3FC;\n",
              "    }\n",
              "\n",
              "    [theme=dark] .colab-df-convert:hover {\n",
              "      background-color: #434B5C;\n",
              "      box-shadow: 0px 1px 3px 1px rgba(0, 0, 0, 0.15);\n",
              "      filter: drop-shadow(0px 1px 2px rgba(0, 0, 0, 0.3));\n",
              "      fill: #FFFFFF;\n",
              "    }\n",
              "  </style>\n",
              "\n",
              "      <script>\n",
              "        const buttonEl =\n",
              "          document.querySelector('#df-d7263705-25cc-4a09-b791-9ade4df2da19 button.colab-df-convert');\n",
              "        buttonEl.style.display =\n",
              "          google.colab.kernel.accessAllowed ? 'block' : 'none';\n",
              "\n",
              "        async function convertToInteractive(key) {\n",
              "          const element = document.querySelector('#df-d7263705-25cc-4a09-b791-9ade4df2da19');\n",
              "          const dataTable =\n",
              "            await google.colab.kernel.invokeFunction('convertToInteractive',\n",
              "                                                     [key], {});\n",
              "          if (!dataTable) return;\n",
              "\n",
              "          const docLinkHtml = 'Like what you see? Visit the ' +\n",
              "            '<a target=\"_blank\" href=https://colab.research.google.com/notebooks/data_table.ipynb>data table notebook</a>'\n",
              "            + ' to learn more about interactive tables.';\n",
              "          element.innerHTML = '';\n",
              "          dataTable['output_type'] = 'display_data';\n",
              "          await google.colab.output.renderOutput(dataTable, element);\n",
              "          const docLink = document.createElement('div');\n",
              "          docLink.innerHTML = docLinkHtml;\n",
              "          element.appendChild(docLink);\n",
              "        }\n",
              "      </script>\n",
              "    </div>\n",
              "  </div>\n",
              "  "
            ],
            "text/plain": [
              "                     age  education_num  hours_per_week\n",
              "age             1.000000       0.036527        0.068756\n",
              "education_num   0.036527       1.000000        0.148123\n",
              "hours_per_week  0.068756       0.148123        1.000000"
            ]
          },
          "metadata": {},
          "execution_count": 12
        }
      ]
    },
    {
      "cell_type": "markdown",
      "source": [
        "**Answer**:\n",
        "\n",
        "From the pairwise scatter plot, correlation matrix, since **education_num and hours_per_week** have correlation coefficient as 0.148, they seem to have a **very weak positive correlation.**"
      ],
      "metadata": {
        "id": "itP5LHtcvfWn"
      }
    },
    {
      "cell_type": "markdown",
      "source": [
        "###(b) Test correlation\n",
        "Statistically test any variable pairs with a correlation coefficient > |0.1| for its difference from 0 and report your result. Is the direction and significance of yourfinding as expected?"
      ],
      "metadata": {
        "id": "N_YXHnvWw0og"
      }
    },
    {
      "cell_type": "code",
      "source": [
        "stat, p = stats.pearsonr(cor_dataset['education_num'], cor_dataset['hours_per_week'])\n",
        "print('stat=%.3f, p=%.3f' % (stat, p))"
      ],
      "metadata": {
        "colab": {
          "base_uri": "https://localhost:8080/"
        },
        "id": "p3yuJFPYs5Bk",
        "outputId": "984feff4-7d74-4128-e8e4-1576918bfafe"
      },
      "execution_count": 13,
      "outputs": [
        {
          "output_type": "stream",
          "name": "stdout",
          "text": [
            "stat=0.148, p=0.000\n"
          ]
        }
      ]
    },
    {
      "cell_type": "markdown",
      "source": [
        "**Answer**\n",
        "\n",
        "From the Pearson correlation test, we know the correlation coefficient (0.148) shows there is a very weak positive correlation. While the extremely low p-value confirms the fact that there is indeed a linear correlation between education_num and hours_per_week."
      ],
      "metadata": {
        "id": "EQN9_jKE4x0A"
      }
    },
    {
      "cell_type": "markdown",
      "source": [
        "###(c) Correlation (age and education_num)\n",
        "How does the correlation (and its significance) between education_num and age compare between male and female participants? Is this expected?\n"
      ],
      "metadata": {
        "id": "eP_ScNL75TXS"
      }
    },
    {
      "cell_type": "code",
      "source": [
        "for val in income94['sex'].unique():\n",
        "  cor_sex = cor_dataset[cor_dataset.sex == val]\n",
        "  stat, p = stats.pearsonr(cor_sex['education_num'], cor_sex['age'])\n",
        "  print(f'{val}: stat=%.3f, p=%.3f' % (stat, p))"
      ],
      "metadata": {
        "colab": {
          "base_uri": "https://localhost:8080/"
        },
        "id": "bU0pL0YM6U6j",
        "outputId": "1787e4bf-b446-4584-e79b-e004033f8b65"
      },
      "execution_count": 14,
      "outputs": [
        {
          "output_type": "stream",
          "name": "stdout",
          "text": [
            " Male: stat=0.060, p=0.000\n",
            " Female: stat=-0.018, p=0.063\n"
          ]
        }
      ]
    },
    {
      "cell_type": "markdown",
      "source": [
        "**Answer:**\n",
        "\n",
        "From the coefficients: for man, as age goes up, education_num increases, whereas for women, education_num decreases as age goes up. \n",
        "\n",
        "However, if we set the significance level at 5%, the 0.063 p-value for women leads to the conclusion that there may be no correlation between education_num and age for women. While the very low p-value for men shows there may be some association between education_num and age for them.\n",
        "\n",
        "The result is sort of expected. For men, they may have more money to pursue their academic path as their age increases. Yet, for women, it really depends on their socioclass, financial situation and many other social/cultural factors. Those factors may push women to take care of their home/child instead of persuing education. Because of diverse social/cultural difference, we can hardly conclude association between women's age and education_num."
      ],
      "metadata": {
        "id": "UMBsE4xb79xP"
      }
    },
    {
      "cell_type": "markdown",
      "source": [
        "###(d) Covariance matrix\n",
        "Compute the covariance matrix for education_num and hours_per_week. What\n",
        "conclusions can you draw from the covariance matrix?"
      ],
      "metadata": {
        "id": "V__cTaNzIHDm"
      }
    },
    {
      "cell_type": "code",
      "source": [
        "cov = ['education_num', 'hours_per_week']\n",
        "cov_data = income94[cov]\n",
        "\n",
        "cov_data.cov()"
      ],
      "metadata": {
        "colab": {
          "base_uri": "https://localhost:8080/",
          "height": 111
        },
        "id": "fmDC0bE8ILt3",
        "outputId": "49fc79a4-abfb-4429-994c-59e0ef7167b2"
      },
      "execution_count": 15,
      "outputs": [
        {
          "output_type": "execute_result",
          "data": {
            "text/html": [
              "\n",
              "  <div id=\"df-550e44ed-7f3f-430b-bbb3-b2eb6617b7ee\">\n",
              "    <div class=\"colab-df-container\">\n",
              "      <div>\n",
              "<style scoped>\n",
              "    .dataframe tbody tr th:only-of-type {\n",
              "        vertical-align: middle;\n",
              "    }\n",
              "\n",
              "    .dataframe tbody tr th {\n",
              "        vertical-align: top;\n",
              "    }\n",
              "\n",
              "    .dataframe thead th {\n",
              "        text-align: right;\n",
              "    }\n",
              "</style>\n",
              "<table border=\"1\" class=\"dataframe\">\n",
              "  <thead>\n",
              "    <tr style=\"text-align: right;\">\n",
              "      <th></th>\n",
              "      <th>education_num</th>\n",
              "      <th>hours_per_week</th>\n",
              "    </tr>\n",
              "  </thead>\n",
              "  <tbody>\n",
              "    <tr>\n",
              "      <th>education_num</th>\n",
              "      <td>6.618890</td>\n",
              "      <td>4.705338</td>\n",
              "    </tr>\n",
              "    <tr>\n",
              "      <th>hours_per_week</th>\n",
              "      <td>4.705338</td>\n",
              "      <td>152.458995</td>\n",
              "    </tr>\n",
              "  </tbody>\n",
              "</table>\n",
              "</div>\n",
              "      <button class=\"colab-df-convert\" onclick=\"convertToInteractive('df-550e44ed-7f3f-430b-bbb3-b2eb6617b7ee')\"\n",
              "              title=\"Convert this dataframe to an interactive table.\"\n",
              "              style=\"display:none;\">\n",
              "        \n",
              "  <svg xmlns=\"http://www.w3.org/2000/svg\" height=\"24px\"viewBox=\"0 0 24 24\"\n",
              "       width=\"24px\">\n",
              "    <path d=\"M0 0h24v24H0V0z\" fill=\"none\"/>\n",
              "    <path d=\"M18.56 5.44l.94 2.06.94-2.06 2.06-.94-2.06-.94-.94-2.06-.94 2.06-2.06.94zm-11 1L8.5 8.5l.94-2.06 2.06-.94-2.06-.94L8.5 2.5l-.94 2.06-2.06.94zm10 10l.94 2.06.94-2.06 2.06-.94-2.06-.94-.94-2.06-.94 2.06-2.06.94z\"/><path d=\"M17.41 7.96l-1.37-1.37c-.4-.4-.92-.59-1.43-.59-.52 0-1.04.2-1.43.59L10.3 9.45l-7.72 7.72c-.78.78-.78 2.05 0 2.83L4 21.41c.39.39.9.59 1.41.59.51 0 1.02-.2 1.41-.59l7.78-7.78 2.81-2.81c.8-.78.8-2.07 0-2.86zM5.41 20L4 18.59l7.72-7.72 1.47 1.35L5.41 20z\"/>\n",
              "  </svg>\n",
              "      </button>\n",
              "      \n",
              "  <style>\n",
              "    .colab-df-container {\n",
              "      display:flex;\n",
              "      flex-wrap:wrap;\n",
              "      gap: 12px;\n",
              "    }\n",
              "\n",
              "    .colab-df-convert {\n",
              "      background-color: #E8F0FE;\n",
              "      border: none;\n",
              "      border-radius: 50%;\n",
              "      cursor: pointer;\n",
              "      display: none;\n",
              "      fill: #1967D2;\n",
              "      height: 32px;\n",
              "      padding: 0 0 0 0;\n",
              "      width: 32px;\n",
              "    }\n",
              "\n",
              "    .colab-df-convert:hover {\n",
              "      background-color: #E2EBFA;\n",
              "      box-shadow: 0px 1px 2px rgba(60, 64, 67, 0.3), 0px 1px 3px 1px rgba(60, 64, 67, 0.15);\n",
              "      fill: #174EA6;\n",
              "    }\n",
              "\n",
              "    [theme=dark] .colab-df-convert {\n",
              "      background-color: #3B4455;\n",
              "      fill: #D2E3FC;\n",
              "    }\n",
              "\n",
              "    [theme=dark] .colab-df-convert:hover {\n",
              "      background-color: #434B5C;\n",
              "      box-shadow: 0px 1px 3px 1px rgba(0, 0, 0, 0.15);\n",
              "      filter: drop-shadow(0px 1px 2px rgba(0, 0, 0, 0.3));\n",
              "      fill: #FFFFFF;\n",
              "    }\n",
              "  </style>\n",
              "\n",
              "      <script>\n",
              "        const buttonEl =\n",
              "          document.querySelector('#df-550e44ed-7f3f-430b-bbb3-b2eb6617b7ee button.colab-df-convert');\n",
              "        buttonEl.style.display =\n",
              "          google.colab.kernel.accessAllowed ? 'block' : 'none';\n",
              "\n",
              "        async function convertToInteractive(key) {\n",
              "          const element = document.querySelector('#df-550e44ed-7f3f-430b-bbb3-b2eb6617b7ee');\n",
              "          const dataTable =\n",
              "            await google.colab.kernel.invokeFunction('convertToInteractive',\n",
              "                                                     [key], {});\n",
              "          if (!dataTable) return;\n",
              "\n",
              "          const docLinkHtml = 'Like what you see? Visit the ' +\n",
              "            '<a target=\"_blank\" href=https://colab.research.google.com/notebooks/data_table.ipynb>data table notebook</a>'\n",
              "            + ' to learn more about interactive tables.';\n",
              "          element.innerHTML = '';\n",
              "          dataTable['output_type'] = 'display_data';\n",
              "          await google.colab.output.renderOutput(dataTable, element);\n",
              "          const docLink = document.createElement('div');\n",
              "          docLink.innerHTML = docLinkHtml;\n",
              "          element.appendChild(docLink);\n",
              "        }\n",
              "      </script>\n",
              "    </div>\n",
              "  </div>\n",
              "  "
            ],
            "text/plain": [
              "                education_num  hours_per_week\n",
              "education_num        6.618890        4.705338\n",
              "hours_per_week       4.705338      152.458995"
            ]
          },
          "metadata": {},
          "execution_count": 15
        }
      ]
    },
    {
      "cell_type": "markdown",
      "source": [
        "**Answer:**\n",
        "\n",
        "Positive covariance indicates the direction of relationship between varialbes, thus education_num and hours_per_week are positively correlated. But covariance doesn't give us the strength of the correlation, and it doesn't account for difference in unit between variables."
      ],
      "metadata": {
        "id": "6hd_YnExYYZK"
      }
    },
    {
      "cell_type": "markdown",
      "source": [
        "##2.3 Regression\n",
        "Fit a linear regression with hours_per_week as the dependent variable and sex as the independent variable.\n"
      ],
      "metadata": {
        "id": "8I5aeavWTcim"
      }
    },
    {
      "cell_type": "markdown",
      "source": [
        "###(a) Do men tend to work more hours?"
      ],
      "metadata": {
        "id": "JMeHAa_lTirF"
      }
    },
    {
      "cell_type": "code",
      "source": [
        "reg1 = smf.ols('hours_per_week ~ sex', data = income94).fit()\n",
        "print(reg1.summary())"
      ],
      "metadata": {
        "colab": {
          "base_uri": "https://localhost:8080/"
        },
        "id": "s0KZMzjQTpeS",
        "outputId": "52228217-df09-4403-babf-0c93ec7478a0"
      },
      "execution_count": 16,
      "outputs": [
        {
          "output_type": "stream",
          "name": "stdout",
          "text": [
            "                            OLS Regression Results                            \n",
            "==============================================================================\n",
            "Dep. Variable:         hours_per_week   R-squared:                       0.053\n",
            "Model:                            OLS   Adj. R-squared:                  0.053\n",
            "Method:                 Least Squares   F-statistic:                     1807.\n",
            "Date:                Sun, 13 Feb 2022   Prob (F-statistic):               0.00\n",
            "Time:                        12:59:03   Log-Likelihood:            -1.2716e+05\n",
            "No. Observations:               32561   AIC:                         2.543e+05\n",
            "Df Residuals:                   32559   BIC:                         2.543e+05\n",
            "Df Model:                           1                                         \n",
            "Covariance Type:            nonrobust                                         \n",
            "================================================================================\n",
            "                   coef    std err          t      P>|t|      [0.025      0.975]\n",
            "--------------------------------------------------------------------------------\n",
            "Intercept       36.4104      0.116    314.412      0.000      36.183      36.637\n",
            "sex[T. Male]     6.0177      0.142     42.510      0.000       5.740       6.295\n",
            "==============================================================================\n",
            "Omnibus:                     2649.390   Durbin-Watson:                   2.019\n",
            "Prob(Omnibus):                  0.000   Jarque-Bera (JB):            13090.867\n",
            "Skew:                           0.239   Prob(JB):                         0.00\n",
            "Kurtosis:                       6.069   Cond. No.                         3.24\n",
            "==============================================================================\n",
            "\n",
            "Warnings:\n",
            "[1] Standard Errors assume that the covariance matrix of the errors is correctly specified.\n"
          ]
        }
      ]
    },
    {
      "cell_type": "markdown",
      "source": [
        "**Answer**\n",
        "\n",
        "Yes, because the intercept (36.410) represents the estimated expected difference in hours_per_week between men and women. And since 'Male' is the non-baseline variable, Male = 1 and women = 0. Thus, the intercept shows hours_per_week for men - hours_per_week for women = 36.410, meaning men tend to work more hours."
      ],
      "metadata": {
        "id": "VDdFeb_YXDwf"
      }
    },
    {
      "cell_type": "markdown",
      "source": [
        "###(b) Add a control variable\n",
        "Add education_num as a control variable, does the trend in hours worked by men\n",
        "vs women remain the same? Is the coefficient for education_num statistically\n",
        "significant? What is the 95% confidence interval?"
      ],
      "metadata": {
        "id": "aVo5LfA2YErs"
      }
    },
    {
      "cell_type": "code",
      "source": [
        "sns.lmplot(x=\"education_num\",\n",
        "           y=\"hours_per_week\",\n",
        "           hue=\"sex\",\n",
        "           height=7,\n",
        "           data=income94)\n",
        "plt.show()"
      ],
      "metadata": {
        "colab": {
          "base_uri": "https://localhost:8080/",
          "height": 513
        },
        "id": "tGAT_2GTLDDb",
        "outputId": "cbb0e485-9505-4689-e9b2-e7d5fe8979e2"
      },
      "execution_count": 31,
      "outputs": [
        {
          "output_type": "display_data",
          "data": {
            "image/png": "[encoded data removed]",
            "text/plain": [
              "<Figure size 579.25x504 with 1 Axes>"
            ]
          },
          "metadata": {
            "needs_background": "light"
          }
        }
      ]
    },
    {
      "cell_type": "code",
      "source": [
        "reg2 = smf.ols('hours_per_week ~ education_num + sex', data = income94).fit()\n",
        "print(reg2.summary())"
      ],
      "metadata": {
        "colab": {
          "base_uri": "https://localhost:8080/"
        },
        "id": "ugGBBCYbTm-A",
        "outputId": "216f0b3e-53c7-4e78-adf1-ff9260412b50"
      },
      "execution_count": 17,
      "outputs": [
        {
          "output_type": "stream",
          "name": "stdout",
          "text": [
            "                            OLS Regression Results                            \n",
            "==============================================================================\n",
            "Dep. Variable:         hours_per_week   R-squared:                       0.074\n",
            "Model:                            OLS   Adj. R-squared:                  0.074\n",
            "Method:                 Least Squares   F-statistic:                     1295.\n",
            "Date:                Sun, 13 Feb 2022   Prob (F-statistic):               0.00\n",
            "Time:                        12:59:03   Log-Likelihood:            -1.2680e+05\n",
            "No. Observations:               32561   AIC:                         2.536e+05\n",
            "Df Residuals:                   32558   BIC:                         2.536e+05\n",
            "Df Model:                           2                                         \n",
            "Covariance Type:            nonrobust                                         \n",
            "=================================================================================\n",
            "                    coef    std err          t      P>|t|      [0.025      0.975]\n",
            "---------------------------------------------------------------------------------\n",
            "Intercept        29.4106      0.281    104.556      0.000      28.859      29.962\n",
            "sex[T. Male]      5.9709      0.140     42.653      0.000       5.697       6.245\n",
            "education_num     0.6975      0.026     27.244      0.000       0.647       0.748\n",
            "==============================================================================\n",
            "Omnibus:                     2783.881   Durbin-Watson:                   2.018\n",
            "Prob(Omnibus):                  0.000   Jarque-Bera (JB):            14492.060\n",
            "Skew:                           0.247   Prob(JB):                         0.00\n",
            "Kurtosis:                       6.231   Cond. No.                         45.6\n",
            "==============================================================================\n",
            "\n",
            "Warnings:\n",
            "[1] Standard Errors assume that the covariance matrix of the errors is correctly specified.\n"
          ]
        }
      ]
    },
    {
      "cell_type": "markdown",
      "source": [
        "**Answer:**\n",
        "\n",
        "(1) Trend remains the same (men works more hours than women), since the coefficient for sex is 5.97 > 0.\n",
        "\n",
        "(2) The coefficient for education_num is statistically significant as its p-value is extremely small.\n",
        "\n",
        "(3) The 95% confidence interval for the coefficient for education_num is (0.647, 0.748) "
      ],
      "metadata": {
        "id": "iOEHNpwDwAC1"
      }
    },
    {
      "cell_type": "markdown",
      "source": [
        "###(c) Add gross_income_group\n",
        "Now add gross_income_group as a binary variable in the model and compare\n",
        "this model with the models including (i) only sex and (ii) sex and education_num. Write down the interpretation for the coefficient for sex in each model. What statistic(s) can help to decide which model is the “best”? How do the three models compare?"
      ],
      "metadata": {
        "id": "u9KKMk2z_-eC"
      }
    },
    {
      "cell_type": "code",
      "source": [
        "reg3 = smf.ols('hours_per_week ~ education_num + sex + gross_income_group', data = income94).fit()\n",
        "print(reg3.summary())"
      ],
      "metadata": {
        "colab": {
          "base_uri": "https://localhost:8080/"
        },
        "id": "LcI3j7m8FNko",
        "outputId": "d5fc521b-21ca-454b-9ce8-8d1357477cf9"
      },
      "execution_count": 18,
      "outputs": [
        {
          "output_type": "stream",
          "name": "stdout",
          "text": [
            "                            OLS Regression Results                            \n",
            "==============================================================================\n",
            "Dep. Variable:         hours_per_week   R-squared:                       0.094\n",
            "Model:                            OLS   Adj. R-squared:                  0.094\n",
            "Method:                 Least Squares   F-statistic:                     1130.\n",
            "Date:                Sun, 13 Feb 2022   Prob (F-statistic):               0.00\n",
            "Time:                        12:59:04   Log-Likelihood:            -1.2643e+05\n",
            "No. Observations:               32561   AIC:                         2.529e+05\n",
            "Df Residuals:                   32557   BIC:                         2.529e+05\n",
            "Df Model:                           3                                         \n",
            "Covariance Type:            nonrobust                                         \n",
            "===============================================================================================\n",
            "                                  coef    std err          t      P>|t|      [0.025      0.975]\n",
            "-----------------------------------------------------------------------------------------------\n",
            "Intercept                      31.4218      0.288    109.184      0.000      30.858      31.986\n",
            "sex[T. Male]                    5.1010      0.142     35.907      0.000       4.823       5.379\n",
            "gross_income_group[T. >50K]     4.5175      0.166     27.229      0.000       4.192       4.843\n",
            "education_num                   0.4478      0.027     16.632      0.000       0.395       0.501\n",
            "==============================================================================\n",
            "Omnibus:                     2984.190   Durbin-Watson:                   2.015\n",
            "Prob(Omnibus):                  0.000   Jarque-Bera (JB):            15467.160\n",
            "Skew:                           0.296   Prob(JB):                         0.00\n",
            "Kurtosis:                       6.324   Cond. No.                         48.1\n",
            "==============================================================================\n",
            "\n",
            "Warnings:\n",
            "[1] Standard Errors assume that the covariance matrix of the errors is correctly specified.\n"
          ]
        }
      ]
    },
    {
      "cell_type": "markdown",
      "source": [
        "**Answer(1):**\n",
        "\n",
        "(1) Interpretation of coefficient for sex:\n",
        "\n",
        "*   (i) only sex: the expected **average** difference in hours_per_week between men and women, i.e. men's hours_per_week **-** women's hours_per_week\n",
        "\n",
        "*   (ii) sex and education_num: the expected difference between men's hours_per_week and women's (actually men's - women's) when education_num = 0\n",
        "\n",
        "*   (ii) sex + education_num + gross_income_group: the expected difference between men's hours_per_week and women's (actually men's - women's) when education_num = 0 and gross_income_group <= 50k."
      ],
      "metadata": {
        "id": "_NCSjtZHFdus"
      }
    },
    {
      "cell_type": "markdown",
      "source": [
        "**Answer(2) and (3):**\n",
        "\n",
        "(2) What statistics help understsand which model is the best?\n",
        "\n",
        "R squared, RSE, and RMSE can all help determine which model is the best (see the next code chunk for RSE and RMSE).\n",
        "\n",
        "(3) How do models compare?\n",
        "\n",
        "As we see that RSE and RMSE for model 3(model with sex + education_num + gross_income_group) is the smallest, meaning model 3 is the best model interms of accurately predicting the response variable. And its R-squared is the largest from the OLS regression results above, indicating these variables fit in linear regression model the best. Hence, I argue that model 3 is the best."
      ],
      "metadata": {
        "id": "cy_7hn22TyDK"
      }
    },
    {
      "cell_type": "code",
      "source": [
        "# check each model's RSE and RMSE\n",
        "models = [reg1, reg2, reg3]\n",
        "for i in range(len(models)):\n",
        "  rse = np.sqrt(models[i].mse_resid)\n",
        "  rmse = rse*np.sqrt((income94.shape[0]-2)/income94.shape[0])\n",
        "  print(f\"Model {i}'s RSE':\", rse)\n",
        "  print(f\"Model {i}'s RMSE':\", rmse)"
      ],
      "metadata": {
        "colab": {
          "base_uri": "https://localhost:8080/"
        },
        "id": "xV7AVyz2SPMG",
        "outputId": "34ddf647-0e60-48c3-b283-1c6e89f5823e"
      },
      "execution_count": 51,
      "outputs": [
        {
          "output_type": "stream",
          "name": "stdout",
          "text": [
            "Model 0's RSE': 12.01859925019377\n",
            "Model 0's RMSE': 12.018230134263332\n",
            "Model 1's RSE': 11.88408396927768\n",
            "Model 1's RMSE': 11.8837189845885\n",
            "Model 2's RSE': 11.751216518537175\n",
            "Model 2's RMSE': 11.750855614480994\n"
          ]
        }
      ]
    },
    {
      "cell_type": "markdown",
      "source": [
        "#Part 3: My own regression analysis"
      ],
      "metadata": {
        "id": "BPPvDXyzVH3_"
      }
    },
    {
      "cell_type": "markdown",
      "source": [
        ""
      ],
      "metadata": {
        "id": "ohLFUS6PWYrb"
      }
    },
    {
      "cell_type": "code",
      "source": [
        "income94.boxplot('fnlwgt', by='sex')\n",
        "plt.show()"
      ],
      "metadata": {
        "colab": {
          "base_uri": "https://localhost:8080/",
          "height": 355
        },
        "id": "4Ruiw0B7ktSv",
        "outputId": "fa65e70d-8abc-44de-8974-8eac635ad947"
      },
      "execution_count": 20,
      "outputs": [
        {
          "output_type": "stream",
          "name": "stderr",
          "text": [
            "/usr/local/lib/python3.7/dist-packages/numpy/core/_asarray.py:83: VisibleDeprecationWarning: Creating an ndarray from ragged nested sequences (which is a list-or-tuple of lists-or-tuples-or ndarrays with different lengths or shapes) is deprecated. If you meant to do this, you must specify 'dtype=object' when creating the ndarray\n",
            "  return array(a, dtype, copy=False, order=order)\n"
          ]
        },
        {
          "output_type": "display_data",
          "data": {
            "image/png": "[encoded data removed]",
            "text/plain": [
              "<Figure size 432x288 with 1 Axes>"
            ]
          },
          "metadata": {
            "needs_background": "light"
          }
        }
      ]
    },
    {
      "cell_type": "code",
      "source": [
        "# see the result\n",
        "income94[['capital_gain', 'capital_loss', 'capital_gain_type', 'capital_loss_type']].sample(50)"
      ],
      "metadata": {
        "colab": {
          "base_uri": "https://localhost:8080/",
          "height": 1000
        },
        "id": "JA7mdWb_P-AT",
        "outputId": "3fb20f80-d6e9-4e3c-df63-578d3a665ef4"
      },
      "execution_count": 21,
      "outputs": [
        {
          "output_type": "execute_result",
          "data": {
            "text/html": [
              "\n",
              "  <div id=\"df-b1fe31aa-b6da-454e-84f6-f0a2dc402c0e\">\n",
              "    <div class=\"colab-df-container\">\n",
              "      <div>\n",
              "<style scoped>\n",
              "    .dataframe tbody tr th:only-of-type {\n",
              "        vertical-align: middle;\n",
              "    }\n",
              "\n",
              "    .dataframe tbody tr th {\n",
              "        vertical-align: top;\n",
              "    }\n",
              "\n",
              "    .dataframe thead th {\n",
              "        text-align: right;\n",
              "    }\n",
              "</style>\n",
              "<table border=\"1\" class=\"dataframe\">\n",
              "  <thead>\n",
              "    <tr style=\"text-align: right;\">\n",
              "      <th></th>\n",
              "      <th>capital_gain</th>\n",
              "      <th>capital_loss</th>\n",
              "      <th>capital_gain_type</th>\n",
              "      <th>capital_loss_type</th>\n",
              "    </tr>\n",
              "  </thead>\n",
              "  <tbody>\n",
              "    <tr>\n",
              "      <th>30384</th>\n",
              "      <td>0</td>\n",
              "      <td>0</td>\n",
              "      <td>no</td>\n",
              "      <td>no</td>\n",
              "    </tr>\n",
              "    <tr>\n",
              "      <th>8351</th>\n",
              "      <td>7688</td>\n",
              "      <td>0</td>\n",
              "      <td>yes</td>\n",
              "      <td>no</td>\n",
              "    </tr>\n",
              "    <tr>\n",
              "      <th>12059</th>\n",
              "      <td>0</td>\n",
              "      <td>0</td>\n",
              "      <td>no</td>\n",
              "      <td>no</td>\n",
              "    </tr>\n",
              "    <tr>\n",
              "      <th>2908</th>\n",
              "      <td>0</td>\n",
              "      <td>0</td>\n",
              "      <td>no</td>\n",
              "      <td>no</td>\n",
              "    </tr>\n",
              "    <tr>\n",
              "      <th>10486</th>\n",
              "      <td>0</td>\n",
              "      <td>0</td>\n",
              "      <td>no</td>\n",
              "      <td>no</td>\n",
              "    </tr>\n",
              "    <tr>\n",
              "      <th>4122</th>\n",
              "      <td>0</td>\n",
              "      <td>0</td>\n",
              "      <td>no</td>\n",
              "      <td>no</td>\n",
              "    </tr>\n",
              "    <tr>\n",
              "      <th>19696</th>\n",
              "      <td>0</td>\n",
              "      <td>0</td>\n",
              "      <td>no</td>\n",
              "      <td>no</td>\n",
              "    </tr>\n",
              "    <tr>\n",
              "      <th>10734</th>\n",
              "      <td>0</td>\n",
              "      <td>0</td>\n",
              "      <td>no</td>\n",
              "      <td>no</td>\n",
              "    </tr>\n",
              "    <tr>\n",
              "      <th>19592</th>\n",
              "      <td>0</td>\n",
              "      <td>0</td>\n",
              "      <td>no</td>\n",
              "      <td>no</td>\n",
              "    </tr>\n",
              "    <tr>\n",
              "      <th>5384</th>\n",
              "      <td>0</td>\n",
              "      <td>0</td>\n",
              "      <td>no</td>\n",
              "      <td>no</td>\n",
              "    </tr>\n",
              "    <tr>\n",
              "      <th>16173</th>\n",
              "      <td>0</td>\n",
              "      <td>0</td>\n",
              "      <td>no</td>\n",
              "      <td>no</td>\n",
              "    </tr>\n",
              "    <tr>\n",
              "      <th>22548</th>\n",
              "      <td>0</td>\n",
              "      <td>0</td>\n",
              "      <td>no</td>\n",
              "      <td>no</td>\n",
              "    </tr>\n",
              "    <tr>\n",
              "      <th>24867</th>\n",
              "      <td>0</td>\n",
              "      <td>0</td>\n",
              "      <td>no</td>\n",
              "      <td>no</td>\n",
              "    </tr>\n",
              "    <tr>\n",
              "      <th>11810</th>\n",
              "      <td>0</td>\n",
              "      <td>1092</td>\n",
              "      <td>no</td>\n",
              "      <td>yes</td>\n",
              "    </tr>\n",
              "    <tr>\n",
              "      <th>25257</th>\n",
              "      <td>0</td>\n",
              "      <td>0</td>\n",
              "      <td>no</td>\n",
              "      <td>no</td>\n",
              "    </tr>\n",
              "    <tr>\n",
              "      <th>30288</th>\n",
              "      <td>0</td>\n",
              "      <td>0</td>\n",
              "      <td>no</td>\n",
              "      <td>no</td>\n",
              "    </tr>\n",
              "    <tr>\n",
              "      <th>25548</th>\n",
              "      <td>0</td>\n",
              "      <td>0</td>\n",
              "      <td>no</td>\n",
              "      <td>no</td>\n",
              "    </tr>\n",
              "    <tr>\n",
              "      <th>11214</th>\n",
              "      <td>0</td>\n",
              "      <td>0</td>\n",
              "      <td>no</td>\n",
              "      <td>no</td>\n",
              "    </tr>\n",
              "    <tr>\n",
              "      <th>13077</th>\n",
              "      <td>0</td>\n",
              "      <td>0</td>\n",
              "      <td>no</td>\n",
              "      <td>no</td>\n",
              "    </tr>\n",
              "    <tr>\n",
              "      <th>17204</th>\n",
              "      <td>0</td>\n",
              "      <td>0</td>\n",
              "      <td>no</td>\n",
              "      <td>no</td>\n",
              "    </tr>\n",
              "    <tr>\n",
              "      <th>21854</th>\n",
              "      <td>0</td>\n",
              "      <td>0</td>\n",
              "      <td>no</td>\n",
              "      <td>no</td>\n",
              "    </tr>\n",
              "    <tr>\n",
              "      <th>17678</th>\n",
              "      <td>0</td>\n",
              "      <td>1876</td>\n",
              "      <td>no</td>\n",
              "      <td>yes</td>\n",
              "    </tr>\n",
              "    <tr>\n",
              "      <th>3324</th>\n",
              "      <td>0</td>\n",
              "      <td>0</td>\n",
              "      <td>no</td>\n",
              "      <td>no</td>\n",
              "    </tr>\n",
              "    <tr>\n",
              "      <th>26405</th>\n",
              "      <td>15024</td>\n",
              "      <td>0</td>\n",
              "      <td>yes</td>\n",
              "      <td>no</td>\n",
              "    </tr>\n",
              "    <tr>\n",
              "      <th>2667</th>\n",
              "      <td>0</td>\n",
              "      <td>0</td>\n",
              "      <td>no</td>\n",
              "      <td>no</td>\n",
              "    </tr>\n",
              "    <tr>\n",
              "      <th>30788</th>\n",
              "      <td>20051</td>\n",
              "      <td>0</td>\n",
              "      <td>yes</td>\n",
              "      <td>no</td>\n",
              "    </tr>\n",
              "    <tr>\n",
              "      <th>25672</th>\n",
              "      <td>0</td>\n",
              "      <td>0</td>\n",
              "      <td>no</td>\n",
              "      <td>no</td>\n",
              "    </tr>\n",
              "    <tr>\n",
              "      <th>12535</th>\n",
              "      <td>0</td>\n",
              "      <td>0</td>\n",
              "      <td>no</td>\n",
              "      <td>no</td>\n",
              "    </tr>\n",
              "    <tr>\n",
              "      <th>26773</th>\n",
              "      <td>0</td>\n",
              "      <td>0</td>\n",
              "      <td>no</td>\n",
              "      <td>no</td>\n",
              "    </tr>\n",
              "    <tr>\n",
              "      <th>21372</th>\n",
              "      <td>0</td>\n",
              "      <td>0</td>\n",
              "      <td>no</td>\n",
              "      <td>no</td>\n",
              "    </tr>\n",
              "    <tr>\n",
              "      <th>17019</th>\n",
              "      <td>0</td>\n",
              "      <td>0</td>\n",
              "      <td>no</td>\n",
              "      <td>no</td>\n",
              "    </tr>\n",
              "    <tr>\n",
              "      <th>20908</th>\n",
              "      <td>0</td>\n",
              "      <td>0</td>\n",
              "      <td>no</td>\n",
              "      <td>no</td>\n",
              "    </tr>\n",
              "    <tr>\n",
              "      <th>29800</th>\n",
              "      <td>0</td>\n",
              "      <td>0</td>\n",
              "      <td>no</td>\n",
              "      <td>no</td>\n",
              "    </tr>\n",
              "    <tr>\n",
              "      <th>13841</th>\n",
              "      <td>0</td>\n",
              "      <td>0</td>\n",
              "      <td>no</td>\n",
              "      <td>no</td>\n",
              "    </tr>\n",
              "    <tr>\n",
              "      <th>28217</th>\n",
              "      <td>0</td>\n",
              "      <td>0</td>\n",
              "      <td>no</td>\n",
              "      <td>no</td>\n",
              "    </tr>\n",
              "    <tr>\n",
              "      <th>20888</th>\n",
              "      <td>0</td>\n",
              "      <td>0</td>\n",
              "      <td>no</td>\n",
              "      <td>no</td>\n",
              "    </tr>\n",
              "    <tr>\n",
              "      <th>5476</th>\n",
              "      <td>0</td>\n",
              "      <td>0</td>\n",
              "      <td>no</td>\n",
              "      <td>no</td>\n",
              "    </tr>\n",
              "    <tr>\n",
              "      <th>28602</th>\n",
              "      <td>0</td>\n",
              "      <td>0</td>\n",
              "      <td>no</td>\n",
              "      <td>no</td>\n",
              "    </tr>\n",
              "    <tr>\n",
              "      <th>10553</th>\n",
              "      <td>0</td>\n",
              "      <td>0</td>\n",
              "      <td>no</td>\n",
              "      <td>no</td>\n",
              "    </tr>\n",
              "    <tr>\n",
              "      <th>17291</th>\n",
              "      <td>0</td>\n",
              "      <td>0</td>\n",
              "      <td>no</td>\n",
              "      <td>no</td>\n",
              "    </tr>\n",
              "    <tr>\n",
              "      <th>6283</th>\n",
              "      <td>0</td>\n",
              "      <td>0</td>\n",
              "      <td>no</td>\n",
              "      <td>no</td>\n",
              "    </tr>\n",
              "    <tr>\n",
              "      <th>7990</th>\n",
              "      <td>0</td>\n",
              "      <td>0</td>\n",
              "      <td>no</td>\n",
              "      <td>no</td>\n",
              "    </tr>\n",
              "    <tr>\n",
              "      <th>29371</th>\n",
              "      <td>0</td>\n",
              "      <td>0</td>\n",
              "      <td>no</td>\n",
              "      <td>no</td>\n",
              "    </tr>\n",
              "    <tr>\n",
              "      <th>11568</th>\n",
              "      <td>0</td>\n",
              "      <td>0</td>\n",
              "      <td>no</td>\n",
              "      <td>no</td>\n",
              "    </tr>\n",
              "    <tr>\n",
              "      <th>25174</th>\n",
              "      <td>0</td>\n",
              "      <td>0</td>\n",
              "      <td>no</td>\n",
              "      <td>no</td>\n",
              "    </tr>\n",
              "    <tr>\n",
              "      <th>26974</th>\n",
              "      <td>0</td>\n",
              "      <td>0</td>\n",
              "      <td>no</td>\n",
              "      <td>no</td>\n",
              "    </tr>\n",
              "    <tr>\n",
              "      <th>21769</th>\n",
              "      <td>0</td>\n",
              "      <td>0</td>\n",
              "      <td>no</td>\n",
              "      <td>no</td>\n",
              "    </tr>\n",
              "    <tr>\n",
              "      <th>18368</th>\n",
              "      <td>0</td>\n",
              "      <td>0</td>\n",
              "      <td>no</td>\n",
              "      <td>no</td>\n",
              "    </tr>\n",
              "    <tr>\n",
              "      <th>9764</th>\n",
              "      <td>0</td>\n",
              "      <td>0</td>\n",
              "      <td>no</td>\n",
              "      <td>no</td>\n",
              "    </tr>\n",
              "    <tr>\n",
              "      <th>21925</th>\n",
              "      <td>2635</td>\n",
              "      <td>0</td>\n",
              "      <td>yes</td>\n",
              "      <td>no</td>\n",
              "    </tr>\n",
              "  </tbody>\n",
              "</table>\n",
              "</div>\n",
              "      <button class=\"colab-df-convert\" onclick=\"convertToInteractive('df-b1fe31aa-b6da-454e-84f6-f0a2dc402c0e')\"\n",
              "              title=\"Convert this dataframe to an interactive table.\"\n",
              "              style=\"display:none;\">\n",
              "        \n",
              "  <svg xmlns=\"http://www.w3.org/2000/svg\" height=\"24px\"viewBox=\"0 0 24 24\"\n",
              "       width=\"24px\">\n",
              "    <path d=\"M0 0h24v24H0V0z\" fill=\"none\"/>\n",
              "    <path d=\"M18.56 5.44l.94 2.06.94-2.06 2.06-.94-2.06-.94-.94-2.06-.94 2.06-2.06.94zm-11 1L8.5 8.5l.94-2.06 2.06-.94-2.06-.94L8.5 2.5l-.94 2.06-2.06.94zm10 10l.94 2.06.94-2.06 2.06-.94-2.06-.94-.94-2.06-.94 2.06-2.06.94z\"/><path d=\"M17.41 7.96l-1.37-1.37c-.4-.4-.92-.59-1.43-.59-.52 0-1.04.2-1.43.59L10.3 9.45l-7.72 7.72c-.78.78-.78 2.05 0 2.83L4 21.41c.39.39.9.59 1.41.59.51 0 1.02-.2 1.41-.59l7.78-7.78 2.81-2.81c.8-.78.8-2.07 0-2.86zM5.41 20L4 18.59l7.72-7.72 1.47 1.35L5.41 20z\"/>\n",
              "  </svg>\n",
              "      </button>\n",
              "      \n",
              "  <style>\n",
              "    .colab-df-container {\n",
              "      display:flex;\n",
              "      flex-wrap:wrap;\n",
              "      gap: 12px;\n",
              "    }\n",
              "\n",
              "    .colab-df-convert {\n",
              "      background-color: #E8F0FE;\n",
              "      border: none;\n",
              "      border-radius: 50%;\n",
              "      cursor: pointer;\n",
              "      display: none;\n",
              "      fill: #1967D2;\n",
              "      height: 32px;\n",
              "      padding: 0 0 0 0;\n",
              "      width: 32px;\n",
              "    }\n",
              "\n",
              "    .colab-df-convert:hover {\n",
              "      background-color: #E2EBFA;\n",
              "      box-shadow: 0px 1px 2px rgba(60, 64, 67, 0.3), 0px 1px 3px 1px rgba(60, 64, 67, 0.15);\n",
              "      fill: #174EA6;\n",
              "    }\n",
              "\n",
              "    [theme=dark] .colab-df-convert {\n",
              "      background-color: #3B4455;\n",
              "      fill: #D2E3FC;\n",
              "    }\n",
              "\n",
              "    [theme=dark] .colab-df-convert:hover {\n",
              "      background-color: #434B5C;\n",
              "      box-shadow: 0px 1px 3px 1px rgba(0, 0, 0, 0.15);\n",
              "      filter: drop-shadow(0px 1px 2px rgba(0, 0, 0, 0.3));\n",
              "      fill: #FFFFFF;\n",
              "    }\n",
              "  </style>\n",
              "\n",
              "      <script>\n",
              "        const buttonEl =\n",
              "          document.querySelector('#df-b1fe31aa-b6da-454e-84f6-f0a2dc402c0e button.colab-df-convert');\n",
              "        buttonEl.style.display =\n",
              "          google.colab.kernel.accessAllowed ? 'block' : 'none';\n",
              "\n",
              "        async function convertToInteractive(key) {\n",
              "          const element = document.querySelector('#df-b1fe31aa-b6da-454e-84f6-f0a2dc402c0e');\n",
              "          const dataTable =\n",
              "            await google.colab.kernel.invokeFunction('convertToInteractive',\n",
              "                                                     [key], {});\n",
              "          if (!dataTable) return;\n",
              "\n",
              "          const docLinkHtml = 'Like what you see? Visit the ' +\n",
              "            '<a target=\"_blank\" href=https://colab.research.google.com/notebooks/data_table.ipynb>data table notebook</a>'\n",
              "            + ' to learn more about interactive tables.';\n",
              "          element.innerHTML = '';\n",
              "          dataTable['output_type'] = 'display_data';\n",
              "          await google.colab.output.renderOutput(dataTable, element);\n",
              "          const docLink = document.createElement('div');\n",
              "          docLink.innerHTML = docLinkHtml;\n",
              "          element.appendChild(docLink);\n",
              "        }\n",
              "      </script>\n",
              "    </div>\n",
              "  </div>\n",
              "  "
            ],
            "text/plain": [
              "       capital_gain  capital_loss capital_gain_type capital_loss_type\n",
              "30384             0             0                no                no\n",
              "8351           7688             0               yes                no\n",
              "12059             0             0                no                no\n",
              "2908              0             0                no                no\n",
              "10486             0             0                no                no\n",
              "4122              0             0                no                no\n",
              "19696             0             0                no                no\n",
              "10734             0             0                no                no\n",
              "19592             0             0                no                no\n",
              "5384              0             0                no                no\n",
              "16173             0             0                no                no\n",
              "22548             0             0                no                no\n",
              "24867             0             0                no                no\n",
              "11810             0          1092                no               yes\n",
              "25257             0             0                no                no\n",
              "30288             0             0                no                no\n",
              "25548             0             0                no                no\n",
              "11214             0             0                no                no\n",
              "13077             0             0                no                no\n",
              "17204             0             0                no                no\n",
              "21854             0             0                no                no\n",
              "17678             0          1876                no               yes\n",
              "3324              0             0                no                no\n",
              "26405         15024             0               yes                no\n",
              "2667              0             0                no                no\n",
              "30788         20051             0               yes                no\n",
              "25672             0             0                no                no\n",
              "12535             0             0                no                no\n",
              "26773             0             0                no                no\n",
              "21372             0             0                no                no\n",
              "17019             0             0                no                no\n",
              "20908             0             0                no                no\n",
              "29800             0             0                no                no\n",
              "13841             0             0                no                no\n",
              "28217             0             0                no                no\n",
              "20888             0             0                no                no\n",
              "5476              0             0                no                no\n",
              "28602             0             0                no                no\n",
              "10553             0             0                no                no\n",
              "17291             0             0                no                no\n",
              "6283              0             0                no                no\n",
              "7990              0             0                no                no\n",
              "29371             0             0                no                no\n",
              "11568             0             0                no                no\n",
              "25174             0             0                no                no\n",
              "26974             0             0                no                no\n",
              "21769             0             0                no                no\n",
              "18368             0             0                no                no\n",
              "9764              0             0                no                no\n",
              "21925          2635             0               yes                no"
            ]
          },
          "metadata": {},
          "execution_count": 21
        }
      ]
    },
    {
      "cell_type": "code",
      "source": [
        "income94.head()\n",
        "# plt.bar(x, height, width, bottom, align)"
      ],
      "metadata": {
        "colab": {
          "base_uri": "https://localhost:8080/",
          "height": 336
        },
        "id": "uxg7s1HpvZct",
        "outputId": "8ce9fe22-5ac4-4f66-fbad-7e3e0912e76d"
      },
      "execution_count": 22,
      "outputs": [
        {
          "output_type": "execute_result",
          "data": {
            "text/html": [
              "\n",
              "  <div id=\"df-2229a7f4-2474-47fe-b9c7-481ce2156f22\">\n",
              "    <div class=\"colab-df-container\">\n",
              "      <div>\n",
              "<style scoped>\n",
              "    .dataframe tbody tr th:only-of-type {\n",
              "        vertical-align: middle;\n",
              "    }\n",
              "\n",
              "    .dataframe tbody tr th {\n",
              "        vertical-align: top;\n",
              "    }\n",
              "\n",
              "    .dataframe thead th {\n",
              "        text-align: right;\n",
              "    }\n",
              "</style>\n",
              "<table border=\"1\" class=\"dataframe\">\n",
              "  <thead>\n",
              "    <tr style=\"text-align: right;\">\n",
              "      <th></th>\n",
              "      <th>age</th>\n",
              "      <th>workclass</th>\n",
              "      <th>fnlwgt</th>\n",
              "      <th>education</th>\n",
              "      <th>education_num</th>\n",
              "      <th>marital_status</th>\n",
              "      <th>occupation</th>\n",
              "      <th>relationship</th>\n",
              "      <th>race</th>\n",
              "      <th>sex</th>\n",
              "      <th>capital_gain</th>\n",
              "      <th>capital_loss</th>\n",
              "      <th>hours_per_week</th>\n",
              "      <th>native_country</th>\n",
              "      <th>gross_income_group</th>\n",
              "      <th>capital_gain_type</th>\n",
              "      <th>capital_loss_type</th>\n",
              "    </tr>\n",
              "  </thead>\n",
              "  <tbody>\n",
              "    <tr>\n",
              "      <th>0</th>\n",
              "      <td>39</td>\n",
              "      <td>State-gov</td>\n",
              "      <td>77516</td>\n",
              "      <td>Bachelors</td>\n",
              "      <td>13</td>\n",
              "      <td>Never-married</td>\n",
              "      <td>Adm-clerical</td>\n",
              "      <td>Not-in-family</td>\n",
              "      <td>White</td>\n",
              "      <td>Male</td>\n",
              "      <td>2174</td>\n",
              "      <td>0</td>\n",
              "      <td>40</td>\n",
              "      <td>United-States</td>\n",
              "      <td>&lt;=50K</td>\n",
              "      <td>yes</td>\n",
              "      <td>no</td>\n",
              "    </tr>\n",
              "    <tr>\n",
              "      <th>1</th>\n",
              "      <td>50</td>\n",
              "      <td>Self-emp-not-inc</td>\n",
              "      <td>83311</td>\n",
              "      <td>Bachelors</td>\n",
              "      <td>13</td>\n",
              "      <td>Married-civ-spouse</td>\n",
              "      <td>Exec-managerial</td>\n",
              "      <td>Husband</td>\n",
              "      <td>White</td>\n",
              "      <td>Male</td>\n",
              "      <td>0</td>\n",
              "      <td>0</td>\n",
              "      <td>13</td>\n",
              "      <td>United-States</td>\n",
              "      <td>&lt;=50K</td>\n",
              "      <td>no</td>\n",
              "      <td>no</td>\n",
              "    </tr>\n",
              "    <tr>\n",
              "      <th>2</th>\n",
              "      <td>38</td>\n",
              "      <td>Private</td>\n",
              "      <td>215646</td>\n",
              "      <td>HS-grad</td>\n",
              "      <td>9</td>\n",
              "      <td>Divorced</td>\n",
              "      <td>Handlers-cleaners</td>\n",
              "      <td>Not-in-family</td>\n",
              "      <td>White</td>\n",
              "      <td>Male</td>\n",
              "      <td>0</td>\n",
              "      <td>0</td>\n",
              "      <td>40</td>\n",
              "      <td>United-States</td>\n",
              "      <td>&lt;=50K</td>\n",
              "      <td>no</td>\n",
              "      <td>no</td>\n",
              "    </tr>\n",
              "    <tr>\n",
              "      <th>3</th>\n",
              "      <td>53</td>\n",
              "      <td>Private</td>\n",
              "      <td>234721</td>\n",
              "      <td>11th</td>\n",
              "      <td>7</td>\n",
              "      <td>Married-civ-spouse</td>\n",
              "      <td>Handlers-cleaners</td>\n",
              "      <td>Husband</td>\n",
              "      <td>Black</td>\n",
              "      <td>Male</td>\n",
              "      <td>0</td>\n",
              "      <td>0</td>\n",
              "      <td>40</td>\n",
              "      <td>United-States</td>\n",
              "      <td>&lt;=50K</td>\n",
              "      <td>no</td>\n",
              "      <td>no</td>\n",
              "    </tr>\n",
              "    <tr>\n",
              "      <th>4</th>\n",
              "      <td>28</td>\n",
              "      <td>Private</td>\n",
              "      <td>338409</td>\n",
              "      <td>Bachelors</td>\n",
              "      <td>13</td>\n",
              "      <td>Married-civ-spouse</td>\n",
              "      <td>Prof-specialty</td>\n",
              "      <td>Wife</td>\n",
              "      <td>Black</td>\n",
              "      <td>Female</td>\n",
              "      <td>0</td>\n",
              "      <td>0</td>\n",
              "      <td>40</td>\n",
              "      <td>Cuba</td>\n",
              "      <td>&lt;=50K</td>\n",
              "      <td>no</td>\n",
              "      <td>no</td>\n",
              "    </tr>\n",
              "  </tbody>\n",
              "</table>\n",
              "</div>\n",
              "      <button class=\"colab-df-convert\" onclick=\"convertToInteractive('df-2229a7f4-2474-47fe-b9c7-481ce2156f22')\"\n",
              "              title=\"Convert this dataframe to an interactive table.\"\n",
              "              style=\"display:none;\">\n",
              "        \n",
              "  <svg xmlns=\"http://www.w3.org/2000/svg\" height=\"24px\"viewBox=\"0 0 24 24\"\n",
              "       width=\"24px\">\n",
              "    <path d=\"M0 0h24v24H0V0z\" fill=\"none\"/>\n",
              "    <path d=\"M18.56 5.44l.94 2.06.94-2.06 2.06-.94-2.06-.94-.94-2.06-.94 2.06-2.06.94zm-11 1L8.5 8.5l.94-2.06 2.06-.94-2.06-.94L8.5 2.5l-.94 2.06-2.06.94zm10 10l.94 2.06.94-2.06 2.06-.94-2.06-.94-.94-2.06-.94 2.06-2.06.94z\"/><path d=\"M17.41 7.96l-1.37-1.37c-.4-.4-.92-.59-1.43-.59-.52 0-1.04.2-1.43.59L10.3 9.45l-7.72 7.72c-.78.78-.78 2.05 0 2.83L4 21.41c.39.39.9.59 1.41.59.51 0 1.02-.2 1.41-.59l7.78-7.78 2.81-2.81c.8-.78.8-2.07 0-2.86zM5.41 20L4 18.59l7.72-7.72 1.47 1.35L5.41 20z\"/>\n",
              "  </svg>\n",
              "      </button>\n",
              "      \n",
              "  <style>\n",
              "    .colab-df-container {\n",
              "      display:flex;\n",
              "      flex-wrap:wrap;\n",
              "      gap: 12px;\n",
              "    }\n",
              "\n",
              "    .colab-df-convert {\n",
              "      background-color: #E8F0FE;\n",
              "      border: none;\n",
              "      border-radius: 50%;\n",
              "      cursor: pointer;\n",
              "      display: none;\n",
              "      fill: #1967D2;\n",
              "      height: 32px;\n",
              "      padding: 0 0 0 0;\n",
              "      width: 32px;\n",
              "    }\n",
              "\n",
              "    .colab-df-convert:hover {\n",
              "      background-color: #E2EBFA;\n",
              "      box-shadow: 0px 1px 2px rgba(60, 64, 67, 0.3), 0px 1px 3px 1px rgba(60, 64, 67, 0.15);\n",
              "      fill: #174EA6;\n",
              "    }\n",
              "\n",
              "    [theme=dark] .colab-df-convert {\n",
              "      background-color: #3B4455;\n",
              "      fill: #D2E3FC;\n",
              "    }\n",
              "\n",
              "    [theme=dark] .colab-df-convert:hover {\n",
              "      background-color: #434B5C;\n",
              "      box-shadow: 0px 1px 3px 1px rgba(0, 0, 0, 0.15);\n",
              "      filter: drop-shadow(0px 1px 2px rgba(0, 0, 0, 0.3));\n",
              "      fill: #FFFFFF;\n",
              "    }\n",
              "  </style>\n",
              "\n",
              "      <script>\n",
              "        const buttonEl =\n",
              "          document.querySelector('#df-2229a7f4-2474-47fe-b9c7-481ce2156f22 button.colab-df-convert');\n",
              "        buttonEl.style.display =\n",
              "          google.colab.kernel.accessAllowed ? 'block' : 'none';\n",
              "\n",
              "        async function convertToInteractive(key) {\n",
              "          const element = document.querySelector('#df-2229a7f4-2474-47fe-b9c7-481ce2156f22');\n",
              "          const dataTable =\n",
              "            await google.colab.kernel.invokeFunction('convertToInteractive',\n",
              "                                                     [key], {});\n",
              "          if (!dataTable) return;\n",
              "\n",
              "          const docLinkHtml = 'Like what you see? Visit the ' +\n",
              "            '<a target=\"_blank\" href=https://colab.research.google.com/notebooks/data_table.ipynb>data table notebook</a>'\n",
              "            + ' to learn more about interactive tables.';\n",
              "          element.innerHTML = '';\n",
              "          dataTable['output_type'] = 'display_data';\n",
              "          await google.colab.output.renderOutput(dataTable, element);\n",
              "          const docLink = document.createElement('div');\n",
              "          docLink.innerHTML = docLinkHtml;\n",
              "          element.appendChild(docLink);\n",
              "        }\n",
              "      </script>\n",
              "    </div>\n",
              "  </div>\n",
              "  "
            ],
            "text/plain": [
              "   age          workclass  ...  capital_gain_type capital_loss_type\n",
              "0   39          State-gov  ...                yes                no\n",
              "1   50   Self-emp-not-inc  ...                 no                no\n",
              "2   38            Private  ...                 no                no\n",
              "3   53            Private  ...                 no                no\n",
              "4   28            Private  ...                 no                no\n",
              "\n",
              "[5 rows x 17 columns]"
            ]
          },
          "metadata": {},
          "execution_count": 22
        }
      ]
    },
    {
      "cell_type": "code",
      "source": [
        "income94.describe()"
      ],
      "metadata": {
        "colab": {
          "base_uri": "https://localhost:8080/",
          "height": 297
        },
        "id": "tipF9ONE2Mm3",
        "outputId": "7ac564ff-a9e3-496d-dfca-8afd37049559"
      },
      "execution_count": 23,
      "outputs": [
        {
          "output_type": "execute_result",
          "data": {
            "text/html": [
              "\n",
              "  <div id=\"df-1ed5f8bd-fad3-4490-bc27-10020aa15744\">\n",
              "    <div class=\"colab-df-container\">\n",
              "      <div>\n",
              "<style scoped>\n",
              "    .dataframe tbody tr th:only-of-type {\n",
              "        vertical-align: middle;\n",
              "    }\n",
              "\n",
              "    .dataframe tbody tr th {\n",
              "        vertical-align: top;\n",
              "    }\n",
              "\n",
              "    .dataframe thead th {\n",
              "        text-align: right;\n",
              "    }\n",
              "</style>\n",
              "<table border=\"1\" class=\"dataframe\">\n",
              "  <thead>\n",
              "    <tr style=\"text-align: right;\">\n",
              "      <th></th>\n",
              "      <th>age</th>\n",
              "      <th>fnlwgt</th>\n",
              "      <th>education_num</th>\n",
              "      <th>capital_gain</th>\n",
              "      <th>capital_loss</th>\n",
              "      <th>hours_per_week</th>\n",
              "    </tr>\n",
              "  </thead>\n",
              "  <tbody>\n",
              "    <tr>\n",
              "      <th>count</th>\n",
              "      <td>32561.000000</td>\n",
              "      <td>3.256100e+04</td>\n",
              "      <td>32561.000000</td>\n",
              "      <td>32561.000000</td>\n",
              "      <td>32561.000000</td>\n",
              "      <td>32561.000000</td>\n",
              "    </tr>\n",
              "    <tr>\n",
              "      <th>mean</th>\n",
              "      <td>38.581647</td>\n",
              "      <td>1.897784e+05</td>\n",
              "      <td>10.080679</td>\n",
              "      <td>1077.648844</td>\n",
              "      <td>87.303830</td>\n",
              "      <td>40.437456</td>\n",
              "    </tr>\n",
              "    <tr>\n",
              "      <th>std</th>\n",
              "      <td>13.640433</td>\n",
              "      <td>1.055500e+05</td>\n",
              "      <td>2.572720</td>\n",
              "      <td>7385.292085</td>\n",
              "      <td>402.960219</td>\n",
              "      <td>12.347429</td>\n",
              "    </tr>\n",
              "    <tr>\n",
              "      <th>min</th>\n",
              "      <td>17.000000</td>\n",
              "      <td>1.228500e+04</td>\n",
              "      <td>1.000000</td>\n",
              "      <td>0.000000</td>\n",
              "      <td>0.000000</td>\n",
              "      <td>1.000000</td>\n",
              "    </tr>\n",
              "    <tr>\n",
              "      <th>25%</th>\n",
              "      <td>28.000000</td>\n",
              "      <td>1.178270e+05</td>\n",
              "      <td>9.000000</td>\n",
              "      <td>0.000000</td>\n",
              "      <td>0.000000</td>\n",
              "      <td>40.000000</td>\n",
              "    </tr>\n",
              "    <tr>\n",
              "      <th>50%</th>\n",
              "      <td>37.000000</td>\n",
              "      <td>1.783560e+05</td>\n",
              "      <td>10.000000</td>\n",
              "      <td>0.000000</td>\n",
              "      <td>0.000000</td>\n",
              "      <td>40.000000</td>\n",
              "    </tr>\n",
              "    <tr>\n",
              "      <th>75%</th>\n",
              "      <td>48.000000</td>\n",
              "      <td>2.370510e+05</td>\n",
              "      <td>12.000000</td>\n",
              "      <td>0.000000</td>\n",
              "      <td>0.000000</td>\n",
              "      <td>45.000000</td>\n",
              "    </tr>\n",
              "    <tr>\n",
              "      <th>max</th>\n",
              "      <td>90.000000</td>\n",
              "      <td>1.484705e+06</td>\n",
              "      <td>16.000000</td>\n",
              "      <td>99999.000000</td>\n",
              "      <td>4356.000000</td>\n",
              "      <td>99.000000</td>\n",
              "    </tr>\n",
              "  </tbody>\n",
              "</table>\n",
              "</div>\n",
              "      <button class=\"colab-df-convert\" onclick=\"convertToInteractive('df-1ed5f8bd-fad3-4490-bc27-10020aa15744')\"\n",
              "              title=\"Convert this dataframe to an interactive table.\"\n",
              "              style=\"display:none;\">\n",
              "        \n",
              "  <svg xmlns=\"http://www.w3.org/2000/svg\" height=\"24px\"viewBox=\"0 0 24 24\"\n",
              "       width=\"24px\">\n",
              "    <path d=\"M0 0h24v24H0V0z\" fill=\"none\"/>\n",
              "    <path d=\"M18.56 5.44l.94 2.06.94-2.06 2.06-.94-2.06-.94-.94-2.06-.94 2.06-2.06.94zm-11 1L8.5 8.5l.94-2.06 2.06-.94-2.06-.94L8.5 2.5l-.94 2.06-2.06.94zm10 10l.94 2.06.94-2.06 2.06-.94-2.06-.94-.94-2.06-.94 2.06-2.06.94z\"/><path d=\"M17.41 7.96l-1.37-1.37c-.4-.4-.92-.59-1.43-.59-.52 0-1.04.2-1.43.59L10.3 9.45l-7.72 7.72c-.78.78-.78 2.05 0 2.83L4 21.41c.39.39.9.59 1.41.59.51 0 1.02-.2 1.41-.59l7.78-7.78 2.81-2.81c.8-.78.8-2.07 0-2.86zM5.41 20L4 18.59l7.72-7.72 1.47 1.35L5.41 20z\"/>\n",
              "  </svg>\n",
              "      </button>\n",
              "      \n",
              "  <style>\n",
              "    .colab-df-container {\n",
              "      display:flex;\n",
              "      flex-wrap:wrap;\n",
              "      gap: 12px;\n",
              "    }\n",
              "\n",
              "    .colab-df-convert {\n",
              "      background-color: #E8F0FE;\n",
              "      border: none;\n",
              "      border-radius: 50%;\n",
              "      cursor: pointer;\n",
              "      display: none;\n",
              "      fill: #1967D2;\n",
              "      height: 32px;\n",
              "      padding: 0 0 0 0;\n",
              "      width: 32px;\n",
              "    }\n",
              "\n",
              "    .colab-df-convert:hover {\n",
              "      background-color: #E2EBFA;\n",
              "      box-shadow: 0px 1px 2px rgba(60, 64, 67, 0.3), 0px 1px 3px 1px rgba(60, 64, 67, 0.15);\n",
              "      fill: #174EA6;\n",
              "    }\n",
              "\n",
              "    [theme=dark] .colab-df-convert {\n",
              "      background-color: #3B4455;\n",
              "      fill: #D2E3FC;\n",
              "    }\n",
              "\n",
              "    [theme=dark] .colab-df-convert:hover {\n",
              "      background-color: #434B5C;\n",
              "      box-shadow: 0px 1px 3px 1px rgba(0, 0, 0, 0.15);\n",
              "      filter: drop-shadow(0px 1px 2px rgba(0, 0, 0, 0.3));\n",
              "      fill: #FFFFFF;\n",
              "    }\n",
              "  </style>\n",
              "\n",
              "      <script>\n",
              "        const buttonEl =\n",
              "          document.querySelector('#df-1ed5f8bd-fad3-4490-bc27-10020aa15744 button.colab-df-convert');\n",
              "        buttonEl.style.display =\n",
              "          google.colab.kernel.accessAllowed ? 'block' : 'none';\n",
              "\n",
              "        async function convertToInteractive(key) {\n",
              "          const element = document.querySelector('#df-1ed5f8bd-fad3-4490-bc27-10020aa15744');\n",
              "          const dataTable =\n",
              "            await google.colab.kernel.invokeFunction('convertToInteractive',\n",
              "                                                     [key], {});\n",
              "          if (!dataTable) return;\n",
              "\n",
              "          const docLinkHtml = 'Like what you see? Visit the ' +\n",
              "            '<a target=\"_blank\" href=https://colab.research.google.com/notebooks/data_table.ipynb>data table notebook</a>'\n",
              "            + ' to learn more about interactive tables.';\n",
              "          element.innerHTML = '';\n",
              "          dataTable['output_type'] = 'display_data';\n",
              "          await google.colab.output.renderOutput(dataTable, element);\n",
              "          const docLink = document.createElement('div');\n",
              "          docLink.innerHTML = docLinkHtml;\n",
              "          element.appendChild(docLink);\n",
              "        }\n",
              "      </script>\n",
              "    </div>\n",
              "  </div>\n",
              "  "
            ],
            "text/plain": [
              "                age        fnlwgt  ...  capital_loss  hours_per_week\n",
              "count  32561.000000  3.256100e+04  ...  32561.000000    32561.000000\n",
              "mean      38.581647  1.897784e+05  ...     87.303830       40.437456\n",
              "std       13.640433  1.055500e+05  ...    402.960219       12.347429\n",
              "min       17.000000  1.228500e+04  ...      0.000000        1.000000\n",
              "25%       28.000000  1.178270e+05  ...      0.000000       40.000000\n",
              "50%       37.000000  1.783560e+05  ...      0.000000       40.000000\n",
              "75%       48.000000  2.370510e+05  ...      0.000000       45.000000\n",
              "max       90.000000  1.484705e+06  ...   4356.000000       99.000000\n",
              "\n",
              "[8 rows x 6 columns]"
            ]
          },
          "metadata": {},
          "execution_count": 23
        }
      ]
    },
    {
      "cell_type": "code",
      "source": [
        "income94.hist(figsize=(15, 15), bins=30, edgecolor=\"black\")\n",
        "plt.subplots_adjust(hspace=0.7, wspace=0.4)"
      ],
      "metadata": {
        "colab": {
          "base_uri": "https://localhost:8080/",
          "height": 845
        },
        "id": "XSV_eLmzy76K",
        "outputId": "b1d59e68-1aaf-42f1-f526-2bd301a6dc4e"
      },
      "execution_count": 24,
      "outputs": [
        {
          "output_type": "display_data",
          "data": {
            "image/png": "[encoded data removed]",
            "text/plain": [
              "<Figure size 1080x1080 with 6 Axes>"
            ]
          },
          "metadata": {
            "needs_background": "light"
          }
        }
      ]
    },
    {
      "cell_type": "code",
      "source": [
        "income94.loc[income94['occupation'] == 99]\n",
        "income94['gross_income_group'].unique()\n",
        "# missing values in categorical variables: ' ?' \n"
      ],
      "metadata": {
        "colab": {
          "base_uri": "https://localhost:8080/"
        },
        "id": "9wYUeCs30nN1",
        "outputId": "cf61b029-e618-4a8a-e69b-17a3b6610f52"
      },
      "execution_count": 25,
      "outputs": [
        {
          "output_type": "execute_result",
          "data": {
            "text/plain": [
              "array([' <=50K', ' >50K'], dtype=object)"
            ]
          },
          "metadata": {},
          "execution_count": 25
        }
      ]
    },
    {
      "cell_type": "code",
      "source": [
        "df2 = income94.replace(to_replace = ' ?', value = np.nan)\n",
        "df2.isna().any()"
      ],
      "metadata": {
        "colab": {
          "base_uri": "https://localhost:8080/"
        },
        "id": "9ZiPMmmc4S52",
        "outputId": "dfef2dcc-48f2-4134-912d-02969f203891"
      },
      "execution_count": 26,
      "outputs": [
        {
          "output_type": "execute_result",
          "data": {
            "text/plain": [
              "age                   False\n",
              "workclass              True\n",
              "fnlwgt                False\n",
              "education             False\n",
              "education_num         False\n",
              "marital_status        False\n",
              "occupation             True\n",
              "relationship          False\n",
              "race                  False\n",
              "sex                   False\n",
              "capital_gain          False\n",
              "capital_loss          False\n",
              "hours_per_week        False\n",
              "native_country         True\n",
              "gross_income_group    False\n",
              "capital_gain_type     False\n",
              "capital_loss_type     False\n",
              "dtype: bool"
            ]
          },
          "metadata": {},
          "execution_count": 26
        }
      ]
    },
    {
      "cell_type": "code",
      "source": [
        "# income94['fnlwgt'].hist()\n",
        "income94.boxplot(['fnlwgt'],vert=False)"
      ],
      "metadata": {
        "colab": {
          "base_uri": "https://localhost:8080/",
          "height": 295
        },
        "id": "VxBgq422Ro_u",
        "outputId": "a5d1cde0-6416-4a05-ae98-f51c32f220db"
      },
      "execution_count": 27,
      "outputs": [
        {
          "output_type": "execute_result",
          "data": {
            "text/plain": [
              "<matplotlib.axes._subplots.AxesSubplot at 0x7fb32b0fe110>"
            ]
          },
          "metadata": {},
          "execution_count": 27
        },
        {
          "output_type": "display_data",
          "data": {
            "image/png": "[encoded data removed]",
            "text/plain": [
              "<Figure size 432x288 with 1 Axes>"
            ]
          },
          "metadata": {
            "needs_background": "light"
          }
        }
      ]
    }
  ]
}